{
 "cells": [
  {
   "cell_type": "code",
   "execution_count": 88,
   "metadata": {
    "collapsed": true
   },
   "outputs": [],
   "source": [
    "import numpy as np\n",
    "from emoji_utils import *\n",
    "import emoji\n",
    "import matplotlib.pyplot as plt\n",
    "\n",
    "%matplotlib inline\n"
   ]
  },
  {
   "cell_type": "code",
   "execution_count": 39,
   "metadata": {
    "collapsed": true
   },
   "outputs": [],
   "source": [
    "def read_csv(filename='data/emojify_data.csv'):\n",
    "    with open(filename) as f:\n",
    "        csvfile=csv.reader(f)\n",
    "        phrases=[]\n",
    "        emoji=[]\n",
    "        for row in csvfile:\n",
    "            phrases.append(row[0])\n",
    "            emoji.append(row[1])\n",
    "    X=np.asarray(phrases)\n",
    "    Y=np.asarray(emoji,dtype=int)\n",
    "    return X,Y"
   ]
  },
  {
   "cell_type": "code",
   "execution_count": 40,
   "metadata": {
    "collapsed": false
   },
   "outputs": [],
   "source": [
    "X_train, Y_train = read_csv('data/train_emoji.csv')\n",
    "X_test, Y_test = read_csv('data/tesss.csv')"
   ]
  },
  {
   "cell_type": "code",
   "execution_count": 130,
   "metadata": {
    "collapsed": false
   },
   "outputs": [
    {
     "name": "stdout",
     "output_type": "stream",
     "text": [
      "I am so impressed by your dedication to this project\n"
     ]
    }
   ],
   "source": [
    "maxstring=max(X_train,key=len)\n",
    "print(maxstring)        "
   ]
  },
  {
   "cell_type": "code",
   "execution_count": 131,
   "metadata": {
    "collapsed": true
   },
   "outputs": [],
   "source": [
    "#in this maxstring above the maxlen i.e the total no.of words \n",
    "maxlen=10"
   ]
  },
  {
   "cell_type": "code",
   "execution_count": 42,
   "metadata": {
    "collapsed": false
   },
   "outputs": [],
   "source": [
    "Y_oh_train=convert_to_one_hot(Y_train,5)\n",
    "Y_oh_test=convert_to_one_hot(Y_test,5)"
   ]
  },
  {
   "cell_type": "code",
   "execution_count": 43,
   "metadata": {
    "collapsed": true
   },
   "outputs": [],
   "source": [
    "words_to_index,index_to_words,words_to_vec_map=read_glove_files(\"data/glove.6B.50d.txt\")"
   ]
  },
  {
   "cell_type": "markdown",
   "metadata": {},
   "source": [
    "## Algo-1 -Using averages of the word embeddings in each sentence"
   ]
  },
  {
   "cell_type": "code",
   "execution_count": 44,
   "metadata": {
    "collapsed": false
   },
   "outputs": [],
   "source": [
    "def sentence_to_avg(sentence, word_to_vec_map):\n",
    "    \"\"\"Converts a sentence (string) into a list of words (strings). Extracts the GloVe representation of each word\n",
    "    and averages its value into a single vector encoding the meaning of the sentence.\"\"\"\n",
    "    words=sentence.lower().split()\n",
    "    avg=np.zeros((50,))\n",
    "    for word in words:\n",
    "        avg+=word_to_vec_map[word]\n",
    "    avg=avg/len(words)\n",
    "    return avg"
   ]
  },
  {
   "cell_type": "code",
   "execution_count": 64,
   "metadata": {
    "collapsed": true
   },
   "outputs": [],
   "source": [
    "def model(X,Y,word_to_vec_map,learning_rate=0.01,iterations=1000):\n",
    "    n_y=5\n",
    "    n_h=50\n",
    "    m=X.shape[0]\n",
    "    \n",
    "    #initialization of weight parameters\n",
    "    W=np.random.randn(n_y,n_h)/np.sqrt(n_h)\n",
    "    b=np.zeros((n_y,))\n",
    "    \n",
    "    #convert y to one hot vector\n",
    "    Y_oh=convert_to_one_hot(Y,n_y)\n",
    "    \n",
    "    for i in range(iterations):\n",
    "        cost=0\n",
    "        for j in range(m):\n",
    "            avg=sentence_to_avg(X[j], word_to_vec_map)\n",
    "            \n",
    "            #forwardprop\n",
    "            z=np.dot(W,avg)+b\n",
    "            a=softmax1(z)\n",
    "            \n",
    "            cost=(np.dot(-Y_oh[j],np.log(a)))\n",
    "            \n",
    "            #backprop\n",
    "            dz=a-Y_oh[j]\n",
    "            dW=np.dot(dz.reshape(n_y,1),avg.reshape(1,n_h))\n",
    "            db=dz\n",
    "            \n",
    "            \n",
    "            #update\n",
    "            W=W-learning_rate*dW\n",
    "            b=b-learning_rate*b\n",
    "        if (i%100==0):\n",
    "            print(\"the cost is at iteration {0} is {1}\".format(i,cost))\n",
    "    pred=predict(X,Y,W,b,word_to_vec_map)\n",
    "    \n",
    "    return pred,W,b        "
   ]
  },
  {
   "cell_type": "code",
   "execution_count": 98,
   "metadata": {
    "collapsed": false
   },
   "outputs": [],
   "source": [
    "def predict(X,Y,W,b,word_to_vec_map):\n",
    "    pred=np.zeros((X.shape[0],1))\n",
    "    for i in range(X.shape[0]):\n",
    "        avg=np.zeros((50,))\n",
    "        line=X[i].lower().split()\n",
    "        for words in line:\n",
    "            avg+=words_to_vec_map[words]\n",
    "        avg=avg/len(line)\n",
    "        \n",
    "        a=np.dot(W,avg)+b\n",
    "        z=softmax1(a)\n",
    "        pred[i,0]=np.argmax(z)\n",
    "    print(\"Accuracy:{0}\".format(np.mean(pred[:]==Y.reshape(Y.shape[0],1)[:])*100))\n",
    "    return pred"
   ]
  },
  {
   "cell_type": "code",
   "execution_count": 99,
   "metadata": {
    "collapsed": false
   },
   "outputs": [
    {
     "name": "stdout",
     "output_type": "stream",
     "text": [
      "the cost is at iteration 0 is 1.6195359767984308\n",
      "the cost is at iteration 100 is 0.07588644356426631\n",
      "the cost is at iteration 200 is 0.04625652902330257\n",
      "the cost is at iteration 300 is 0.03712218934625889\n",
      "the cost is at iteration 400 is 0.03199076902152221\n",
      "the cost is at iteration 500 is 0.02834752242137004\n",
      "the cost is at iteration 600 is 0.02549950429889686\n",
      "the cost is at iteration 700 is 0.023173449849686462\n",
      "the cost is at iteration 800 is 0.02123047879843488\n",
      "the cost is at iteration 900 is 0.01958640511707976\n",
      "Accuracy:98.48484848484848\n"
     ]
    }
   ],
   "source": [
    "pred,W,b=model(X_train,Y_train,words_to_vec_map)"
   ]
  },
  {
   "cell_type": "code",
   "execution_count": 108,
   "metadata": {
    "collapsed": false
   },
   "outputs": [
    {
     "name": "stdout",
     "output_type": "stream",
     "text": [
      "Accuracy:91.07142857142857\n"
     ]
    }
   ],
   "source": [
    "pred_test=predict(X_test,Y_test,W,b,words_to_vec_map)"
   ]
  },
  {
   "cell_type": "code",
   "execution_count": 109,
   "metadata": {
    "collapsed": true
   },
   "outputs": [],
   "source": [
    "emoji_dictionary = {\"0\": \"\\u2764\\uFE0F\",    # :heart: prints a black instead of red heart depending on the font\n",
    "                    \"1\": \":baseball:\",\n",
    "                    \"2\": \":smile:\",\n",
    "                    \"3\": \":disappointed:\",\n",
    "                    \"4\": \":fork_and_knife:\"}\n"
   ]
  },
  {
   "cell_type": "code",
   "execution_count": 110,
   "metadata": {
    "collapsed": false
   },
   "outputs": [
    {
     "name": "stdout",
     "output_type": "stream",
     "text": [
      "I want to eat\t 🍴\n",
      "he did not answer\t :disappointed:\n",
      "he got a very nice raise\t :smile:\n",
      "she got me a nice present\t :smile:\n",
      "ha ha ha it was so funny\t :smile:\n"
     ]
    }
   ],
   "source": [
    "for i in range(5):\n",
    "    m=Y_test[i]\n",
    "    print(X_test[i],label_to_emoji(m))"
   ]
  },
  {
   "cell_type": "code",
   "execution_count": 111,
   "metadata": {
    "collapsed": false
   },
   "outputs": [
    {
     "name": "stdout",
     "output_type": "stream",
     "text": [
      "⚾\n"
     ]
    }
   ],
   "source": [
    "print(emoji.emojize(\":baseball:\"))"
   ]
  },
  {
   "cell_type": "code",
   "execution_count": 112,
   "metadata": {
    "collapsed": false
   },
   "outputs": [
    {
     "name": "stdout",
     "output_type": "stream",
     "text": [
      "Accuracy:100.0\n"
     ]
    }
   ],
   "source": [
    "X_my_sentences = np.array([\"i adore you\", \"i love you\", \"funny lol\", \"lets play with a ball\", \"food is ready\", \"not feeling happy\"])\n",
    "Y_my_labels = np.array([[0], [0], [2], [1], [4],[3]])\n",
    "\n",
    "pred = predict(X_my_sentences, Y_my_labels , W, b, words_to_vec_map)\n",
    "#print_predictions(X_my_sentences, pred)"
   ]
  },
  {
   "cell_type": "code",
   "execution_count": 113,
   "metadata": {
    "collapsed": false
   },
   "outputs": [
    {
     "name": "stdout",
     "output_type": "stream",
     "text": [
      "6\n"
     ]
    }
   ],
   "source": [
    "print(Y_my_labels.shape[0])"
   ]
  },
  {
   "cell_type": "code",
   "execution_count": 114,
   "metadata": {
    "collapsed": false
   },
   "outputs": [
    {
     "name": "stdout",
     "output_type": "stream",
     "text": [
      "(56,)\n",
      "           ❤️    ⚾    :smile:    :disappointed:   🍴\n",
      "Predicted  0.0  1.0  2.0  3.0  4.0  All\n",
      "Actual                                 \n",
      "0            6    0    0    1    0    7\n",
      "1            0    8    0    0    0    8\n",
      "2            1    0   17    0    0   18\n",
      "3            1    1    1   13    0   16\n",
      "4            0    0    0    0    7    7\n",
      "All          8    9   18   14    7   56\n"
     ]
    },
    {
     "data": {
      "image/png": "[encoded data removed]",
      "text/plain": [
       "<matplotlib.figure.Figure at 0x7f7c7790cbe0>"
      ]
     },
     "metadata": {},
     "output_type": "display_data"
    }
   ],
   "source": [
    "print(Y_test.shape)\n",
    "print('           '+ label_to_emoji(0)+ '    ' + label_to_emoji(1) + '    ' +  label_to_emoji(2)+ '    ' + label_to_emoji(3)+'   ' + label_to_emoji(4))\n",
    "print(pd.crosstab(Y_test, pred_test.reshape(56,), rownames=['Actual'], colnames=['Predicted'], margins=True))\n",
    "plot_confusion_matrix(Y_test, pred_test)"
   ]
  },
  {
   "cell_type": "markdown",
   "metadata": {},
   "source": [
    "## Using LSTMS in Keras"
   ]
  },
  {
   "cell_type": "code",
   "execution_count": 115,
   "metadata": {
    "collapsed": false
   },
   "outputs": [
    {
     "name": "stderr",
     "output_type": "stream",
     "text": [
      "Using TensorFlow backend.\n"
     ]
    }
   ],
   "source": [
    "import numpy as np\n",
    "np.random.seed(0)\n",
    "from keras.models import Model\n",
    "from keras.layers import Dense, Input, Dropout, LSTM, Activation\n",
    "from keras.layers.embeddings import Embedding\n",
    "from keras.preprocessing import sequence\n",
    "from keras.initializers import glorot_uniform\n",
    "np.random.seed(1)"
   ]
  },
  {
   "cell_type": "markdown",
   "metadata": {},
   "source": [
    "### Keras Minibatch\n",
    "\n",
    "The common solution is padding because we can vectorize over the entire training set if all of them have the \n",
    "same sentence length ,so that the no. of blocks required in each LSTM layer will be same."
   ]
  },
  {
   "cell_type": "markdown",
   "metadata": {},
   "source": [
    "### The Embedding Layer\n",
    "\n",
    "This layer converts every word in the sentence to its word embeddings which will acts as an input to the network.So in keras it is done by embedding layer."
   ]
  },
  {
   "cell_type": "code",
   "execution_count": 118,
   "metadata": {
    "collapsed": true
   },
   "outputs": [],
   "source": [
    "#converts each sentence to its corresponding indices equivalent which can be given as an input to the \n",
    "#embedding layer\n",
    "def sentences_to_index(X,word_to_index,maxlen):\n",
    "    m=X.shape[0]\n",
    "    X_indices=np.zeros((m,maxlen))\n",
    "    for i in range(m):\n",
    "        sent_words=X[i].lower().split()\n",
    "        j=0\n",
    "        for w in sent_words:\n",
    "            X_indices[i,j]=word_to_index[w]\n",
    "            j+=1\n",
    "    return X_indices"
   ]
  },
  {
   "cell_type": "code",
   "execution_count": 123,
   "metadata": {
    "collapsed": true
   },
   "outputs": [],
   "source": [
    "def pretrained_embedding_layer(word_to_vec_map, word_to_index):\n",
    "    emb_dim=word_to_vec_map[\"cucumber\"].shape[0]\n",
    "    vocab_length=len(word_to_vec_map)+1\n",
    "    emb_matrix=np.zeros((vocab_length,emb_dim))\n",
    "    words=word_to_vec_map.keys()\n",
    "    for w in words:\n",
    "        idx=word_to_index[w]\n",
    "        emb_matrix[idx,:]=word_to_vec_map[w]\n",
    "    embedding_layer=Embedding(input_dim=vocab_length,output_dim=emb_dim,trainable=False)#trainable is set to False cause during optimization it will not be trained further\n",
    "    embedding_layer.build((None,))\n",
    "    embedding_layer.set_weights([emb_matrix])\n",
    "    return embedding_layer"
   ]
  },
  {
   "cell_type": "code",
   "execution_count": 126,
   "metadata": {
    "collapsed": false
   },
   "outputs": [],
   "source": [
    "embedding_layer = pretrained_embedding_layer(words_to_vec_map, words_to_index)"
   ]
  },
  {
   "cell_type": "code",
   "execution_count": 142,
   "metadata": {
    "collapsed": true
   },
   "outputs": [],
   "source": [
    "def emojify_v2(input_shape,word_to_vec_map,word_to_index):\n",
    "    sentence_indices=Input(input_shape)\n",
    "    embedding_layer=pretrained_embedding_layer(word_to_vec_map, word_to_index)\n",
    "    embeddings=embedding_layer(sentence_indices)\n",
    "    X=LSTM(units=128,return_sequences=True)(embeddings)\n",
    "    X=Dropout(0.5)(X)\n",
    "    X=LSTM(units=128)(X)\n",
    "    X=Dropout(0.5)(X)\n",
    "    X=Dense(units=5)(X)\n",
    "    X=Activation('softmax')(X)\n",
    "    model=Model(input=sentence_indices,output=X)\n",
    "    return model"
   ]
  },
  {
   "cell_type": "code",
   "execution_count": 143,
   "metadata": {
    "collapsed": false
   },
   "outputs": [
    {
     "name": "stdout",
     "output_type": "stream",
     "text": [
      "_________________________________________________________________\n",
      "Layer (type)                 Output Shape              Param #   \n",
      "=================================================================\n",
      "input_3 (InputLayer)         (None, 10)                0         \n",
      "_________________________________________________________________\n",
      "embedding_4 (Embedding)      (None, 10, 50)            20000050  \n",
      "_________________________________________________________________\n",
      "lstm_4 (LSTM)                (None, 10, 128)           91648     \n",
      "_________________________________________________________________\n",
      "dropout_3 (Dropout)          (None, 10, 128)           0         \n",
      "_________________________________________________________________\n",
      "lstm_5 (LSTM)                (None, 128)               131584    \n",
      "_________________________________________________________________\n",
      "dropout_4 (Dropout)          (None, 128)               0         \n",
      "_________________________________________________________________\n",
      "dense_1 (Dense)              (None, 5)                 645       \n",
      "_________________________________________________________________\n",
      "activation_2 (Activation)    (None, 5)                 0         \n",
      "=================================================================\n",
      "Total params: 20,223,927\n",
      "Trainable params: 223,877\n",
      "Non-trainable params: 20,000,050\n",
      "_________________________________________________________________\n"
     ]
    },
    {
     "name": "stderr",
     "output_type": "stream",
     "text": [
      "/home/ajita/anaconda3/lib/python3.5/site-packages/ipykernel/__main__.py:11: UserWarning: Update your `Model` call to the Keras 2 API: `Model(outputs=Tensor(\"ac..., inputs=Tensor(\"in...)`\n"
     ]
    }
   ],
   "source": [
    "model=emojify_v2((maxlen,),words_to_vec_map,words_to_index)\n",
    "model.summary()"
   ]
  },
  {
   "cell_type": "code",
   "execution_count": 144,
   "metadata": {
    "collapsed": true
   },
   "outputs": [],
   "source": [
    "model.compile(loss=\"categorical_crossentropy\",optimizer='adam',metrics=['accuracy'])"
   ]
  },
  {
   "cell_type": "code",
   "execution_count": 145,
   "metadata": {
    "collapsed": false
   },
   "outputs": [],
   "source": [
    "X_train_indices = sentences_to_index(X_train, words_to_index, maxlen)\n",
    "Y_train_oh = convert_to_one_hot(Y_train, C = 5)"
   ]
  },
  {
   "cell_type": "code",
   "execution_count": 146,
   "metadata": {
    "collapsed": false,
    "scrolled": true
   },
   "outputs": [
    {
     "name": "stdout",
     "output_type": "stream",
     "text": [
      "Epoch 1/50\n",
      "132/132 [==============================] - 2s 18ms/step - loss: 1.6041 - acc: 0.2045\n",
      "Epoch 2/50\n",
      "132/132 [==============================] - 0s 1ms/step - loss: 1.5244 - acc: 0.3485\n",
      "Epoch 3/50\n",
      "132/132 [==============================] - 0s 1ms/step - loss: 1.4970 - acc: 0.3561\n",
      "Epoch 4/50\n",
      "132/132 [==============================] - 0s 1ms/step - loss: 1.4458 - acc: 0.4394\n",
      "Epoch 5/50\n",
      "132/132 [==============================] - 0s 1ms/step - loss: 1.3681 - acc: 0.4091\n",
      "Epoch 6/50\n",
      "132/132 [==============================] - 0s 1ms/step - loss: 1.2994 - acc: 0.5303\n",
      "Epoch 7/50\n",
      "132/132 [==============================] - 0s 1ms/step - loss: 1.1139 - acc: 0.6136\n",
      "Epoch 8/50\n",
      "132/132 [==============================] - 0s 1ms/step - loss: 1.0091 - acc: 0.6742\n",
      "Epoch 9/50\n",
      "132/132 [==============================] - 0s 1ms/step - loss: 0.9229 - acc: 0.6667\n",
      "Epoch 10/50\n",
      "132/132 [==============================] - 0s 1ms/step - loss: 0.8209 - acc: 0.7121\n",
      "Epoch 11/50\n",
      "132/132 [==============================] - 0s 2ms/step - loss: 0.6416 - acc: 0.7727\n",
      "Epoch 12/50\n",
      "132/132 [==============================] - 0s 1ms/step - loss: 0.5474 - acc: 0.8409\n",
      "Epoch 13/50\n",
      "132/132 [==============================] - 0s 1ms/step - loss: 0.6103 - acc: 0.7955\n",
      "Epoch 14/50\n",
      "132/132 [==============================] - 0s 1ms/step - loss: 0.4982 - acc: 0.8561\n",
      "Epoch 15/50\n",
      "132/132 [==============================] - 0s 1ms/step - loss: 0.4055 - acc: 0.8333\n",
      "Epoch 16/50\n",
      "132/132 [==============================] - 0s 1ms/step - loss: 0.4616 - acc: 0.8106\n",
      "Epoch 17/50\n",
      "132/132 [==============================] - 0s 1ms/step - loss: 0.4722 - acc: 0.8333\n",
      "Epoch 18/50\n",
      "132/132 [==============================] - 0s 1ms/step - loss: 0.4238 - acc: 0.8561\n",
      "Epoch 19/50\n",
      "132/132 [==============================] - 0s 1ms/step - loss: 0.4048 - acc: 0.8788\n",
      "Epoch 20/50\n",
      "132/132 [==============================] - 0s 1ms/step - loss: 0.3543 - acc: 0.8939\n",
      "Epoch 21/50\n",
      "132/132 [==============================] - 0s 2ms/step - loss: 0.4247 - acc: 0.8636\n",
      "Epoch 22/50\n",
      "132/132 [==============================] - 0s 1ms/step - loss: 0.2963 - acc: 0.9015\n",
      "Epoch 23/50\n",
      "132/132 [==============================] - 0s 1ms/step - loss: 0.2828 - acc: 0.9015\n",
      "Epoch 24/50\n",
      "132/132 [==============================] - 0s 2ms/step - loss: 0.2495 - acc: 0.9242\n",
      "Epoch 25/50\n",
      "132/132 [==============================] - 0s 1ms/step - loss: 0.1857 - acc: 0.9621\n",
      "Epoch 26/50\n",
      "132/132 [==============================] - 0s 1ms/step - loss: 0.2230 - acc: 0.9242\n",
      "Epoch 27/50\n",
      "132/132 [==============================] - 0s 1ms/step - loss: 0.1466 - acc: 0.9394\n",
      "Epoch 28/50\n",
      "132/132 [==============================] - 0s 2ms/step - loss: 0.0977 - acc: 0.9697\n",
      "Epoch 29/50\n",
      "132/132 [==============================] - 0s 1ms/step - loss: 0.0918 - acc: 0.9697\n",
      "Epoch 30/50\n",
      "132/132 [==============================] - 0s 1ms/step - loss: 0.0716 - acc: 0.9773\n",
      "Epoch 31/50\n",
      "132/132 [==============================] - 0s 1ms/step - loss: 0.0983 - acc: 0.9697\n",
      "Epoch 32/50\n",
      "132/132 [==============================] - 0s 2ms/step - loss: 0.0716 - acc: 0.9848\n",
      "Epoch 33/50\n",
      "132/132 [==============================] - 0s 2ms/step - loss: 0.1105 - acc: 0.9545\n",
      "Epoch 34/50\n",
      "132/132 [==============================] - 0s 1ms/step - loss: 0.1127 - acc: 0.9697\n",
      "Epoch 35/50\n",
      "132/132 [==============================] - 0s 2ms/step - loss: 0.2263 - acc: 0.9394\n",
      "Epoch 36/50\n",
      "132/132 [==============================] - 0s 2ms/step - loss: 0.3811 - acc: 0.8864\n",
      "Epoch 37/50\n",
      "132/132 [==============================] - 0s 1ms/step - loss: 0.2890 - acc: 0.9091\n",
      "Epoch 38/50\n",
      "132/132 [==============================] - 0s 1ms/step - loss: 0.3034 - acc: 0.8864\n",
      "Epoch 39/50\n",
      "132/132 [==============================] - 0s 2ms/step - loss: 0.3771 - acc: 0.8333\n",
      "Epoch 40/50\n",
      "132/132 [==============================] - 0s 1ms/step - loss: 0.2275 - acc: 0.9318\n",
      "Epoch 41/50\n",
      "132/132 [==============================] - 0s 1ms/step - loss: 0.1567 - acc: 0.9697\n",
      "Epoch 42/50\n",
      "132/132 [==============================] - 0s 2ms/step - loss: 0.1150 - acc: 0.9924\n",
      "Epoch 43/50\n",
      "132/132 [==============================] - 0s 2ms/step - loss: 0.1290 - acc: 0.9621\n",
      "Epoch 44/50\n",
      "132/132 [==============================] - 0s 1ms/step - loss: 0.0775 - acc: 0.9848\n",
      "Epoch 45/50\n",
      "132/132 [==============================] - 0s 1ms/step - loss: 0.0757 - acc: 0.9924\n",
      "Epoch 46/50\n",
      "132/132 [==============================] - 0s 2ms/step - loss: 0.0596 - acc: 0.9924\n",
      "Epoch 47/50\n",
      "132/132 [==============================] - 0s 1ms/step - loss: 0.0857 - acc: 0.9773\n",
      "Epoch 48/50\n",
      "132/132 [==============================] - 0s 2ms/step - loss: 0.0707 - acc: 0.9697\n",
      "Epoch 49/50\n",
      "132/132 [==============================] - 0s 2ms/step - loss: 0.0691 - acc: 0.9697\n",
      "Epoch 50/50\n",
      "132/132 [==============================] - 0s 1ms/step - loss: 0.0502 - acc: 0.9848\n"
     ]
    },
    {
     "data": {
      "text/plain": [
       "<keras.callbacks.History at 0x7f7c73b64e80>"
      ]
     },
     "execution_count": 146,
     "metadata": {},
     "output_type": "execute_result"
    }
   ],
   "source": [
    "model.fit(X_train_indices,Y_train_oh,epochs=50,batch_size=32,shuffle=True)"
   ]
  },
  {
   "cell_type": "code",
   "execution_count": 149,
   "metadata": {
    "collapsed": false
   },
   "outputs": [
    {
     "name": "stdout",
     "output_type": "stream",
     "text": [
      "56/56 [==============================] - 0s 4ms/step\n",
      "\n",
      "Test accuracy:0.8214285714285714\n"
     ]
    }
   ],
   "source": [
    "X_test_indices = sentences_to_index(X_test, words_to_index, maxlen = maxlen)\n",
    "Y_test_oh = convert_to_one_hot(Y_test, C = 5)\n",
    "loss,acc=model.evaluate(X_test_indices,Y_test_oh)\n",
    "print()\n",
    "print(\"Test accuracy:{0}\".format(acc))"
   ]
  },
  {
   "cell_type": "code",
   "execution_count": 153,
   "metadata": {
    "collapsed": false
   },
   "outputs": [
    {
     "name": "stdout",
     "output_type": "stream",
     "text": [
      "Expected emoji :smile: prediction: he got a very nice raise\t ❤️\n",
      "Expected emoji :smile: prediction: she got me a nice present\t ❤️\n",
      "Expected emoji :disappointed: prediction: work is hard\t :smile:\n",
      "Expected emoji :disappointed: prediction: This girl is messing with me\t ❤️\n",
      "Expected emoji :disappointed: prediction: work is horrible\t :smile:\n",
      "Expected emoji 🍴 prediction: any suggestions for dinner\t :smile:\n",
      "Expected emoji :disappointed: prediction: she is a bully\t ❤️\n",
      "Expected emoji ❤️ prediction: I love you to the stars and back\t :smile:\n",
      "Expected emoji :disappointed: prediction: go away\t ⚾\n",
      "Expected emoji :disappointed: prediction: yesterday we lost again\t ⚾\n"
     ]
    }
   ],
   "source": [
    "#to visualize the incorect labelled examples\n",
    "pred=model.predict(X_test_indices)\n",
    "for i in range(X_test_indices.shape[0]):\n",
    "    idx=np.argmax(pred[i])\n",
    "    if (idx!=Y_test[i]):\n",
    "        print(\"Expected emoji {0} prediction: {1} {2}\".format(label_to_emoji(Y_test[i]),X_test[i],\n",
    "                                                              label_to_emoji(idx)))"
   ]
  },
  {
   "cell_type": "code",
   "execution_count": null,
   "metadata": {
    "collapsed": true
   },
   "outputs": [],
   "source": []
  }
 ],
 "metadata": {
  "anaconda-cloud": {},
  "kernelspec": {
   "display_name": "Python [conda root]",
   "language": "python",
   "name": "conda-root-py"
  },
  "language_info": {
   "codemirror_mode": {
    "name": "ipython",
    "version": 3
   },
   "file_extension": ".py",
   "mimetype": "text/x-python",
   "name": "python",
   "nbconvert_exporter": "python",
   "pygments_lexer": "ipython3",
   "version": "3.5.2"
  }
 },
 "nbformat": 4,
 "nbformat_minor": 1
}
